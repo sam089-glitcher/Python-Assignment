{
 "cells": [
  {
   "cell_type": "code",
   "execution_count": 1,
   "id": "1afce849-75af-41ea-87ef-55b882e5c246",
   "metadata": {},
   "outputs": [
    {
     "name": "stdin",
     "output_type": "stream",
     "text": [
      "Enter numbers separated by space:  10 20 30 40 50\n"
     ]
    },
    {
     "name": "stdout",
     "output_type": "stream",
     "text": [
      "40\n"
     ]
    }
   ],
   "source": [
    "list1 = list(map(int, input().split()))\n",
    "if len(set(list1)) < 2:\n",
    "    print()\n",
    "else:\n",
    "    list1.sort()\n",
    "    print(list1[-2])\n"
   ]
  },
  {
   "cell_type": "code",
   "execution_count": 3,
   "id": "4aa8a612-4d02-4359-b48d-00cc0fa1d83d",
   "metadata": {},
   "outputs": [
    {
     "name": "stdin",
     "output_type": "stream",
     "text": [
      " 10 20 40 50 40 70 60 50 \n"
     ]
    },
    {
     "name": "stdout",
     "output_type": "stream",
     "text": [
      "[70, 40, 10, 50, 20, 60]\n"
     ]
    }
   ],
   "source": [
    "user_input = input()\n",
    "_list = list(map(int, user_input.split()))\n",
    "new = list(set(_list))\n",
    "print(new)\n"
   ]
  },
  {
   "cell_type": "code",
   "execution_count": 4,
   "id": "de3ef242-811a-470c-b086-9bde7577bfc9",
   "metadata": {},
   "outputs": [
    {
     "name": "stdin",
     "output_type": "stream",
     "text": [
      " 12 13 14 15 16\n"
     ]
    },
    {
     "name": "stdout",
     "output_type": "stream",
     "text": [
      "Sum is: 70 Average is: 14.0\n"
     ]
    }
   ],
   "source": [
    "\n",
    "user_input = input()\n",
    "lst = list(map(int, user_input.split()))\n",
    "total = sum(lst)\n",
    "average = total / len(lst)\n",
    "print(\"Sum is:\", total, \"Average is:\", average)\n"
   ]
  },
  {
   "cell_type": "code",
   "execution_count": 5,
   "id": "2f6a3b9c-3cfc-476e-9327-a93e02aa0ff1",
   "metadata": {},
   "outputs": [
    {
     "name": "stdin",
     "output_type": "stream",
     "text": [
      "Enter a number:  57\n"
     ]
    },
    {
     "name": "stdout",
     "output_type": "stream",
     "text": [
      "Is prime: False\n"
     ]
    }
   ],
   "source": [
    "\n",
    "num = int(input(\"Enter a number: \"))\n",
    "is_prime = num > 1 and all(num % i != 0 for i in range(2, int(num**0.5) + 1))\n",
    "print(\"Is prime:\", is_prime)"
   ]
  },
  {
   "cell_type": "code",
   "execution_count": 6,
   "id": "c8eb0ead-eb93-4ecc-b0ca-f8e6dd74d987",
   "metadata": {},
   "outputs": [
    {
     "name": "stdin",
     "output_type": "stream",
     "text": [
      "Enter string:  XYUCWVWUCQVJUEQY23623UDXU9012@ w2KDU2\n"
     ]
    },
    {
     "name": "stdout",
     "output_type": "stream",
     "text": [
      "Vowels: 7\n",
      "Consonants: 17\n",
      "Digits: 11\n",
      "Special Characters: 2\n"
     ]
    }
   ],
   "source": [
    "bolo = input(\"Enter string: \")\n",
    "vowels = 0\n",
    "consonants = 0\n",
    "digits = 0\n",
    "special = 0\n",
    "for ch in bolo:\n",
    "    if ch.lower() in 'aeiou':\n",
    "        vowels += 1\n",
    "    elif ch.isalpha():\n",
    "        consonants += 1\n",
    "    elif ch.isdigit():\n",
    "        digits += 1\n",
    "    else:\n",
    "        special += 1\n",
    "print(\"Vowels:\", vowels)\n",
    "print(\"Consonants:\", consonants)\n",
    "print(\"Digits:\", digits)\n",
    "print(\"Special Characters:\", special)\n"
   ]
  },
  {
   "cell_type": "code",
   "execution_count": 10,
   "id": "b034cae0-37f0-478c-b2fe-b92ba8c01e42",
   "metadata": {},
   "outputs": [
    {
     "name": "stdout",
     "output_type": "stream",
     "text": [
      "2 4 6 8 10 12 14 16 18 20 22 24 26 28 30 32 34 36 38 40 42 44 46 48 50 52 54 56 58 60 62 64 66 68 70 72 74 76 78 80 82 84 86 88 90 92 94 96 98 100 "
     ]
    }
   ],
   "source": [
    "for i in range(1, 101):\n",
    "    if i % 2 == 0:\n",
    "        print(i, end=\" \")"
   ]
  },
  {
   "cell_type": "code",
   "execution_count": 14,
   "id": "95bed258-dcbd-4208-a999-0ccb5be69162",
   "metadata": {},
   "outputs": [
    {
     "name": "stdin",
     "output_type": "stream",
     "text": [
      " 5\n"
     ]
    },
    {
     "name": "stdout",
     "output_type": "stream",
     "text": [
      "5 x 1 = 5\n",
      "5 x 2 = 10\n",
      "5 x 3 = 15\n",
      "5 x 4 = 20\n",
      "5 x 5 = 25\n",
      "5 x 6 = 30\n",
      "5 x 7 = 35\n",
      "5 x 8 = 40\n",
      "5 x 9 = 45\n",
      "5 x 10 = 50\n"
     ]
    }
   ],
   "source": [
    "\n",
    "num = int(input())\n",
    "for i in range(1, 11):\n",
    "    print(f\"{num} x {i} = {num * i}\")\n"
   ]
  },
  {
   "cell_type": "code",
   "execution_count": 15,
   "id": "00e1bfeb-14b7-4666-8fbe-bc49ba734392",
   "metadata": {},
   "outputs": [
    {
     "name": "stdout",
     "output_type": "stream",
     "text": [
      "[15, 30, 45, 60, 75, 90]\n"
     ]
    }
   ],
   "source": [
    "lst = [i for i in range(1, 101) if i % 3 == 0 and i % 5 == 0]\n",
    "print(lst)"
   ]
  },
  {
   "cell_type": "code",
   "execution_count": 16,
   "id": "46bb3930-27e5-4862-8254-67d454cb9f32",
   "metadata": {},
   "outputs": [
    {
     "name": "stdin",
     "output_type": "stream",
     "text": [
      " 67475486\n"
     ]
    },
    {
     "name": "stdout",
     "output_type": "stream",
     "text": [
      "68457476\n"
     ]
    }
   ],
   "source": [
    "num=input()\n",
    "print(num[::-1])"
   ]
  },
  {
   "cell_type": "code",
   "execution_count": 17,
   "id": "f3d8fc2f-2b1c-424b-8380-434805426424",
   "metadata": {},
   "outputs": [
    {
     "name": "stdin",
     "output_type": "stream",
     "text": [
      " hi namaste everyone\n"
     ]
    },
    {
     "name": "stdout",
     "output_type": "stream",
     "text": [
      "{'h': 1, 'i': 1, ' ': 2, 'n': 2, 'a': 2, 'm': 1, 's': 1, 't': 1, 'e': 4, 'v': 1, 'r': 1, 'y': 1, 'o': 1}\n"
     ]
    }
   ],
   "source": [
    "s = input()\n",
    "freq = {}\n",
    "for ch in s:\n",
    "    freq[ch] = freq.get(ch, 0) + 1\n",
    "print(freq)"
   ]
  },
  {
   "cell_type": "code",
   "execution_count": 19,
   "id": "7a1e5f21-0072-4e85-a727-857c9cbfe7fe",
   "metadata": {},
   "outputs": [
    {
     "name": "stdin",
     "output_type": "stream",
     "text": [
      " 56\n"
     ]
    },
    {
     "name": "stdout",
     "output_type": "stream",
     "text": [
      "[2, 3, 5, 7, 11, 13, 17, 19, 23, 29, 31, 37, 41, 43, 47, 53, 59, 61, 67, 71, 73, 79, 83, 89, 97, 101, 103, 107, 109, 113, 127, 131, 137, 139, 149, 151, 157, 163, 167, 173, 179, 181, 191, 193, 197, 199, 211, 223, 227, 229, 233, 239, 241, 251, 257, 263]\n"
     ]
    }
   ],
   "source": [
    "n = int(input())\n",
    "primes = []\n",
    "i = 2\n",
    "while len(primes) < n:\n",
    "    if all(i % p != 0 for p in primes):\n",
    "        primes.append(i)\n",
    "    i += 1\n",
    "print(primes)"
   ]
  },
  {
   "cell_type": "code",
   "execution_count": 23,
   "id": "c2f614e8-5d2e-4362-874f-059ad513e558",
   "metadata": {},
   "outputs": [
    {
     "name": "stdin",
     "output_type": "stream",
     "text": [
      " 262\n"
     ]
    },
    {
     "name": "stdout",
     "output_type": "stream",
     "text": [
      "True\n"
     ]
    }
   ],
   "source": [
    "n=input()\n",
    "print(n == n[::-1])"
   ]
  },
  {
   "cell_type": "code",
   "execution_count": 1,
   "id": "5c2c8fdc-f1d8-4faa-9f1a-eae24256dca8",
   "metadata": {},
   "outputs": [
    {
     "name": "stdin",
     "output_type": "stream",
     "text": [
      " 101 12 13 12 14 1516 12 17 20\n",
      "Enter the element to count:  12\n"
     ]
    },
    {
     "name": "stdout",
     "output_type": "stream",
     "text": [
      "12 appears 3 time(s) in the list.\n"
     ]
    }
   ],
   "source": [
    "user_input = input()\n",
    "lst = user_input.split()\n",
    "element = input(\"Enter the element to count: \")\n",
    "count = lst.count(element)\n",
    "print(f\"{element} appears {count} time(s) in the list.\")"
   ]
  },
  {
   "cell_type": "code",
   "execution_count": 2,
   "id": "de1273cc-c18b-418e-8fa1-f9020e4d127f",
   "metadata": {},
   "outputs": [
    {
     "name": "stdout",
     "output_type": "stream",
     "text": [
      "[4, 16, 36, 64, 100, 144, 196, 256, 324, 400, 484, 576, 676, 784, 900, 1024, 1156, 1296, 1444, 1600, 1764, 1936, 2116, 2304, 2500]\n"
     ]
    }
   ],
   "source": [
    "square=[i*i for i in range (2,51,2)]\n",
    "print(square)"
   ]
  },
  {
   "cell_type": "code",
   "execution_count": 1,
   "id": "2d45dfcf-6760-44bf-9df8-eb6447b86c13",
   "metadata": {},
   "outputs": [
    {
     "name": "stdin",
     "output_type": "stream",
     "text": [
      " 1 2 3 4 5 6 7 8 9 12 13 14 12 13\n"
     ]
    },
    {
     "name": "stdout",
     "output_type": "stream",
     "text": [
      "['1', '2', '3', '4', '5', '6', '7', '8', '9', '12', '13', '14']\n"
     ]
    }
   ],
   "source": [
    "\n",
    "user_input = input()\n",
    "lst = user_input.split()\n",
    "unique_list = []\n",
    "for item in lst:\n",
    "    if item not in unique_list:\n",
    "        unique_list.append(item)\n",
    "print(unique_list)"
   ]
  },
  {
   "cell_type": "code",
   "execution_count": 2,
   "id": "15bea852-2d26-496e-bce4-b38a1916046b",
   "metadata": {},
   "outputs": [
    {
     "name": "stdin",
     "output_type": "stream",
     "text": [
      " 4\n"
     ]
    },
    {
     "name": "stdout",
     "output_type": "stream",
     "text": [
      "True\n"
     ]
    }
   ],
   "source": [
    "def is_even(n):\n",
    "    return n % 2 == 0\n",
    "num = int(input())\n",
    "print(is_even(num))\n"
   ]
  },
  {
   "cell_type": "code",
   "execution_count": 6,
   "id": "e79d0240-8afd-4a9d-b4ab-dc2be5a77b04",
   "metadata": {},
   "outputs": [
    {
     "name": "stdin",
     "output_type": "stream",
     "text": [
      " 12 13 12 14 15 16\n"
     ]
    },
    {
     "name": "stdout",
     "output_type": "stream",
     "text": [
      "Cumulative sum: [12, 25, 37, 51, 66, 82]\n"
     ]
    }
   ],
   "source": [
    "def cumulative_sum(numb):\n",
    "    result = []\n",
    "    total = 0\n",
    "    for num in numb:\n",
    "        total += num\n",
    "        result.append(total)\n",
    "    return result\n",
    "user_input = input()\n",
    "numbers = list(map(int, user_input.split()))\n",
    "cum_sum = cumulative_sum(numbers)\n",
    "print(\"Cumulative sum:\", cum_sum)\n"
   ]
  },
  {
   "cell_type": "code",
   "execution_count": 7,
   "id": "20e12db0-04ea-4373-b1e3-b8280724ecda",
   "metadata": {},
   "outputs": [
    {
     "name": "stdin",
     "output_type": "stream",
     "text": [
      "number:  12\n"
     ]
    },
    {
     "name": "stdout",
     "output_type": "stream",
     "text": [
      "Factorial of 12 is 479001600\n"
     ]
    }
   ],
   "source": [
    "def factorial(n):\n",
    "    if n == 0 or n == 1:\n",
    "        return 1\n",
    "    return n * factorial(n - 1)\n",
    "num = int(input(\"number: \"))\n",
    "if num < 0:\n",
    "    print(\"Factorial is not defined for negative numbers.\")\n",
    "else:\n",
    "    print(f\"Factorial of {num} is {factorial(num)}\")"
   ]
  },
  {
   "cell_type": "code",
   "execution_count": 8,
   "id": "3f1353d7-4725-415a-920c-4329283c6e87",
   "metadata": {},
   "outputs": [
    {
     "name": "stdin",
     "output_type": "stream",
     "text": [
      "number of term:  12\n"
     ]
    },
    {
     "name": "stdout",
     "output_type": "stream",
     "text": [
      "Fibonacci series up to 12 terms:\n",
      "0 1 1 2 3 5 8 13 21 34 55 89 "
     ]
    }
   ],
   "source": [
    "def fibonacci_series(n):\n",
    "    a, b = 0, 1\n",
    "    for _ in range(n):\n",
    "        print(a, end=\" \")\n",
    "        a, b = b, a + b\n",
    "num = int(input(\"number of term: \"))\n",
    "if num <= 0:\n",
    "    print(\"Please enter a positive integer.\")\n",
    "else:\n",
    "    print(f\"Fibonacci series up to {num} terms:\")\n",
    "    fibonacci_series(num)\n"
   ]
  },
  {
   "cell_type": "code",
   "execution_count": 56,
   "id": "45291e6d-112c-4a56-b2cb-cd634ad7a9b0",
   "metadata": {},
   "outputs": [
    {
     "name": "stdin",
     "output_type": "stream",
     "text": [
      "Enter a string:  madam\n"
     ]
    },
    {
     "name": "stdout",
     "output_type": "stream",
     "text": [
      "'madam'is palindrome.\n"
     ]
    }
   ],
   "source": [
    "def is_palindrome(s):\n",
    "    return s == s[::-1]\n",
    "bolo_ji = input(\"Enter a string: \").strip().lower()\n",
    "if is_palindrome(bolo_ji):\n",
    "    print(f\"'{bolo_ji}'is palindrome.\")\n",
    "else:\n",
    "    print(f\"'{bolo_ji}'not palindrome.\")\n"
   ]
  },
  {
   "cell_type": "code",
   "execution_count": 12,
   "id": "bc2f4740-56aa-4f13-b21d-af52d7c5aa27",
   "metadata": {},
   "outputs": [
    {
     "name": "stdin",
     "output_type": "stream",
     "text": [
      " 12 13 12 14 15 16 17 25\n"
     ]
    },
    {
     "name": "stdout",
     "output_type": "stream",
     "text": [
      "Maximum: 25\n",
      "Minimum: 12\n"
     ]
    }
   ],
   "source": [
    "def find_max_min(lst):\n",
    "    return max(lst), min(lst)\n",
    "user_input = input()\n",
    "numbers = list(map(int, user_input.split()))\n",
    "maximum, minimum = find_max_min(numbers)\n",
    "print(\"Maximum:\", maximum)\n",
    "print(\"Minimum:\", minimum)\n"
   ]
  },
  {
   "cell_type": "code",
   "execution_count": 13,
   "id": "41fa0029-3158-4740-8954-cdd3758a8bd3",
   "metadata": {},
   "outputs": [
    {
     "name": "stdin",
     "output_type": "stream",
     "text": [
      "Enter sentence:  mass\n"
     ]
    },
    {
     "name": "stdout",
     "output_type": "stream",
     "text": [
      "not a pangram.\n"
     ]
    }
   ],
   "source": [
    "def is_pangram(s):\n",
    "    alphabet = set(\"abcdefghijklmnopqrstuvwxyz\")\n",
    "    return set(s.lower()) >= alphabet\n",
    "text = input(\"Enter sentence: \")\n",
    "if is_pangram(text):\n",
    "    print(\"pangram.\")\n",
    "else:\n",
    "    print(\"not a pangram.\")\n"
   ]
  },
  {
   "cell_type": "code",
   "execution_count": 14,
   "id": "46666b4e-55c7-46d3-b3d2-d603322fb582",
   "metadata": {},
   "outputs": [
    {
     "name": "stdin",
     "output_type": "stream",
     "text": [
      "Enter start of range:  35\n",
      "Enter end of range:  456\n"
     ]
    },
    {
     "name": "stdout",
     "output_type": "stream",
     "text": [
      "[37, 41, 43, 47, 53, 59, 61, 67, 71, 73, 79, 83, 89, 97, 101, 103, 107, 109, 113, 127, 131, 137, 139, 149, 151, 157, 163, 167, 173, 179, 181, 191, 193, 197, 199, 211, 223, 227, 229, 233, 239, 241, 251, 257, 263, 269, 271, 277, 281, 283, 293, 307, 311, 313, 317, 331, 337, 347, 349, 353, 359, 367, 373, 379, 383, 389, 397, 401, 409, 419, 421, 431, 433, 439, 443, 449]\n"
     ]
    }
   ],
   "source": [
    "def find_primes(start, end):\n",
    "    return [n for n in range(start, end+1) if n > 1 and all(n % i != 0 for i in range(2, int(n**0.5)+1))]\n",
    "start = int(input(\"Enter start of range: \"))\n",
    "end = int(input(\"Enter end of range: \"))\n",
    "\n",
    "print(find_primes(start, end))\n"
   ]
  },
  {
   "cell_type": "code",
   "execution_count": 15,
   "id": "106ea4d2-4c57-408e-90fb-4dd5c2fbd474",
   "metadata": {},
   "outputs": [
    {
     "name": "stdin",
     "output_type": "stream",
     "text": [
      "Enter a string:  namaste india\n"
     ]
    },
    {
     "name": "stdout",
     "output_type": "stream",
     "text": [
      "0\n",
      "12\n"
     ]
    }
   ],
   "source": [
    "def count_case_letters(s):\n",
    "    upper = sum(1 for ch in s if ch.isupper())\n",
    "    lower = sum(1 for ch in s if ch.islower())\n",
    "    return upper, lower\n",
    "text = input(\"Enter a string: \")\n",
    "upper, lower = count_case_letters(text)\n",
    "print(upper)\n",
    "print(lower)\n"
   ]
  },
  {
   "cell_type": "code",
   "execution_count": 17,
   "id": "a8913d4d-b56e-48ef-9dac-d74a5191fc5a",
   "metadata": {
    "scrolled": true
   },
   "outputs": [
    {
     "name": "stdin",
     "output_type": "stream",
     "text": [
      "Enter a number:  23\n"
     ]
    },
    {
     "name": "stdout",
     "output_type": "stream",
     "text": [
      "5\n"
     ]
    }
   ],
   "source": [
    "def sum_of_digits(n):\n",
    "    return sum(int(digit) for digit in str(abs(n)))\n",
    "num = int(input(\"Enter a number: \"))\n",
    "print(sum_of_digits(num))\n"
   ]
  },
  {
   "cell_type": "code",
   "execution_count": 18,
   "id": "72c3d9d1-4c91-4abd-9cfe-f73e20297448",
   "metadata": {},
   "outputs": [
    {
     "name": "stdin",
     "output_type": "stream",
     "text": [
      "Enter a sentence:  hi everyone from india\n"
     ]
    },
    {
     "name": "stdout",
     "output_type": "stream",
     "text": [
      "4\n"
     ]
    }
   ],
   "source": [
    "def count_words(sentence):\n",
    "    return len(sentence.split())\n",
    "say = input(\"Enter a sentence: \")\n",
    "print(count_words(say))\n"
   ]
  },
  {
   "cell_type": "code",
   "execution_count": 20,
   "id": "2698fe6c-1671-4cb1-ad4c-29bdf9f2f6ec",
   "metadata": {},
   "outputs": [
    {
     "name": "stdin",
     "output_type": "stream",
     "text": [
      "Enter a string:  rtgc6uv ulyviyctrcrdcuiycdt42$w&*&\n"
     ]
    },
    {
     "name": "stdout",
     "output_type": "stream",
     "text": [
      "rtgc6uv ulyviyctrcrdcuiycdt42w\n"
     ]
    }
   ],
   "source": [
    "def remove_punctuation(text):\n",
    "    punct = '''!()-[]{};:'\",<>./?@#$%^&*_~'''\n",
    "    result = \"\"\n",
    "    for ch in text:\n",
    "        if ch not in punct:\n",
    "            result += ch\n",
    "    return result\n",
    "\n",
    "bol = input(\"Enter a string: \")\n",
    "print(remove_punctuation(bol))\n"
   ]
  },
  {
   "cell_type": "code",
   "execution_count": 21,
   "id": "b82956c2-964e-4aa8-8a06-ae48708702e7",
   "metadata": {},
   "outputs": [
    {
     "name": "stdin",
     "output_type": "stream",
     "text": [
      "first number:  34\n",
      "second number:  456\n"
     ]
    },
    {
     "name": "stdout",
     "output_type": "stream",
     "text": [
      "GCD is: 2\n"
     ]
    }
   ],
   "source": [
    "def find_gcd(a, b):\n",
    "    while b != 0:\n",
    "        a, b = b, a % b\n",
    "    return a\n",
    "num1 = int(input(\"first number: \"))\n",
    "num2 = int(input(\"second number: \"))\n",
    "print(\"GCD is:\", find_gcd(num1, num2))\n"
   ]
  },
  {
   "cell_type": "code",
   "execution_count": 22,
   "id": "f6d96776-0342-4896-ba2a-ab4d9027232f",
   "metadata": {},
   "outputs": [
    {
     "name": "stdin",
     "output_type": "stream",
     "text": [
      "Enter list elements separated by space:  12 34 5 78 54 67 65 76 67 89 67 88\n"
     ]
    },
    {
     "name": "stdout",
     "output_type": "stream",
     "text": [
      "Duplicate elements: ['67']\n"
     ]
    }
   ],
   "source": [
    "def find_duplicates(lst):\n",
    "    return list(set([x for x in lst if lst.count(x) > 1]))\n",
    "user_input = input(\"Enter list elements separated by space: \")\n",
    "lst = user_input.split()\n",
    "print(\"Duplicate elements:\", find_duplicates(lst))\n"
   ]
  },
  {
   "cell_type": "code",
   "execution_count": 23,
   "id": "8add4056-934a-4626-a481-a608ca7005c6",
   "metadata": {},
   "outputs": [
    {
     "name": "stdin",
     "output_type": "stream",
     "text": [
      " 67\n",
      " 78\n",
      " 89\n"
     ]
    },
    {
     "name": "stdout",
     "output_type": "stream",
     "text": [
      "89\n"
     ]
    }
   ],
   "source": [
    "def largest_of_three(a, b, c):\n",
    "    return max(a, b, c)\n",
    "x = int(input())\n",
    "y = int(input())\n",
    "z = int(input())\n",
    "print(largest_of_three(x, y, z))\n"
   ]
  },
  {
   "cell_type": "code",
   "execution_count": 51,
   "id": "54a374da-e614-47bc-a07a-172e3207fd29",
   "metadata": {},
   "outputs": [
    {
     "name": "stdin",
     "output_type": "stream",
     "text": [
      "Enter a sentence:  hi everyone\n"
     ]
    },
    {
     "name": "stdout",
     "output_type": "stream",
     "text": [
      "Sorted words: ['everyone', 'hi']\n"
     ]
    }
   ],
   "source": [
    "sentence = input(\"Enter a sentence: \")\n",
    "words = sentence.split()\n",
    "words.sort()\n",
    "print(\"Sorted words:\", words)"
   ]
  },
  {
   "cell_type": "code",
   "execution_count": 24,
   "id": "d1789d43-2e1f-41e4-b65f-0328426bc479",
   "metadata": {},
   "outputs": [
    {
     "name": "stdout",
     "output_type": "stream",
     "text": [
      "Concatenated dictionary: {'a': 1, 'b': 2, 'c': 3, 'd': 4}\n"
     ]
    }
   ],
   "source": [
    "dict1 = {'a': 1, 'b': 2}\n",
    "dict2 = {'c': 3, 'd': 4}\n",
    "merged = {**dict1, **dict2}\n",
    "print(\"Concatenated dictionary:\", merged)"
   ]
  },
  {
   "cell_type": "code",
   "execution_count": 25,
   "id": "cbe65586-39cb-41d3-94e4-31a23c8c6efb",
   "metadata": {},
   "outputs": [
    {
     "name": "stdin",
     "output_type": "stream",
     "text": [
      "Enter a sentence:  yufghfgh tyyfiyky ygvigg;ov ftrxdut\n"
     ]
    },
    {
     "name": "stdout",
     "output_type": "stream",
     "text": [
      "yufghfgh: 1 vowel(s)\n",
      "tyyfiyky: 1 vowel(s)\n",
      "ygvigg;ov: 2 vowel(s)\n",
      "ftrxdut: 1 vowel(s)\n"
     ]
    }
   ],
   "source": [
    "sentence = input(\"Enter a sentence: \")\n",
    "vowels = \"aeiouAEIOU\"\n",
    "for word in sentence.split():\n",
    "    count = sum(1 for ch in word if ch in vowels)\n",
    "    print(f\"{word}: {count} vowel(s)\")"
   ]
  },
  {
   "cell_type": "code",
   "execution_count": 50,
   "id": "d345c265-68cb-482d-af33-f8787d832f5e",
   "metadata": {},
   "outputs": [
    {
     "name": "stdin",
     "output_type": "stream",
     "text": [
      " 2 3 4 5 6 7 4 5 6 \n"
     ]
    },
    {
     "name": "stdout",
     "output_type": "stream",
     "text": [
      "Converted list: ['2', '3', '4', '5', '6', '7', '4', '5', '6']\n"
     ]
    }
   ],
   "source": [
    "tup = tuple(input().split())\n",
    "lst = list(tup)\n",
    "print(\"Converted list:\", lst)\n"
   ]
  },
  {
   "cell_type": "code",
   "execution_count": null,
   "id": "f5d5f963-ced8-4ad6-ac06-9ac8e5f41016",
   "metadata": {},
   "outputs": [],
   "source": [
    "def remove_whitespace(s):\n",
    "    return s.replace(\" \", \"\")\n",
    "\n",
    "text = input(\"Enter string: \")\n",
    "print(\"Without whitespace:\", remove_whitespace(text))"
   ]
  },
  {
   "cell_type": "code",
   "execution_count": 26,
   "id": "a998fcc1-ff5e-4013-badd-b51d4a55a666",
   "metadata": {},
   "outputs": [
    {
     "name": "stdin",
     "output_type": "stream",
     "text": [
      "Enter keys:  645 7657 5676\n",
      "Enter values:  475 3543 976\n"
     ]
    },
    {
     "name": "stdout",
     "output_type": "stream",
     "text": [
      "Merged dictionary: {'645': '475', '7657': '3543', '5676': '976'}\n"
     ]
    }
   ],
   "source": [
    "keys = input(\"Enter keys: \").split()\n",
    "values = input(\"Enter values: \").split()\n",
    "merged_dict = dict(zip(keys, values))\n",
    "print(\"Merged dictionary:\", merged_dict)"
   ]
  },
  {
   "cell_type": "code",
   "execution_count": null,
   "id": "ef40a069-737c-43ae-9bb4-6cda66c02274",
   "metadata": {},
   "outputs": [],
   "source": [
    "n = int(input(\"How many key-value pairs do you want to enter? \"))\n",
    "data = {}\n",
    "for _ in range(n):\n",
    "    key = input(\"Enter key: \")\n",
    "    value = int(input(\"Enter value: \"))\n",
    "    data[key] = value\n",
    "max_key = max(data, key=data.get)\n",
    "print(\"Key with maximum value:\", max_key)"
   ]
  },
  {
   "cell_type": "code",
   "execution_count": 27,
   "id": "89d20c90-6339-44e0-a3a7-b22337732c99",
   "metadata": {},
   "outputs": [
    {
     "name": "stdin",
     "output_type": "stream",
     "text": [
      " gfjjfhg iugfyliki erdfxhky\n"
     ]
    },
    {
     "name": "stdout",
     "output_type": "stream",
     "text": [
      "Word frequencies: {'gfjjfhg': 1, 'iugfyliki': 1, 'erdfxhky': 1}\n"
     ]
    }
   ],
   "source": [
    "sentence = input()\n",
    "words = sentence.split()\n",
    "freq = {}\n",
    "for word in words:\n",
    "    freq[word] = freq.get(word, 0) + 1\n",
    "print(\"Word frequencies:\", freq)\n"
   ]
  },
  {
   "cell_type": "code",
   "execution_count": null,
   "id": "996d3961-f44c-4299-928e-93d9987e895b",
   "metadata": {},
   "outputs": [],
   "source": [
    "n = int(input(\"How many key-value pairs do you want to enter? \"))\n",
    "d = {}\n",
    "\n",
    "for _ in range(n):\n",
    "    k = input(\"Enter key: \")\n",
    "    v = input(\"Enter value: \")\n",
    "    d[k] = v\n",
    "key = input(\"Enter key to check: \")\n",
    "print(\"Exists:\" if key in d else \"Does not exist\")\n"
   ]
  },
  {
   "cell_type": "code",
   "execution_count": 28,
   "id": "6ec8444d-7179-4e31-a588-59b3263e2328",
   "metadata": {},
   "outputs": [
    {
     "name": "stdin",
     "output_type": "stream",
     "text": [
      " hjehlkhwnaxjbaiuqxe\n"
     ]
    },
    {
     "name": "stdout",
     "output_type": "stream",
     "text": [
      "hj*hlkhwn*xjb***qx*\n"
     ]
    }
   ],
   "source": [
    "s = input()\n",
    "result = ''.join('*' if ch in 'aeiouAEIOU' else ch for ch in s)\n",
    "print(result)\n"
   ]
  },
  {
   "cell_type": "code",
   "execution_count": 41,
   "id": "49772e3a-dd0c-4ea7-b286-3884aba31e98",
   "metadata": {},
   "outputs": [
    {
     "name": "stdin",
     "output_type": "stream",
     "text": [
      "Enter the filename to read:  notes.txt\n"
     ]
    },
    {
     "name": "stdout",
     "output_type": "stream",
     "text": [
      "\n",
      "Error: The file 'notes.txt' does not exist.\n"
     ]
    },
    {
     "name": "stdin",
     "output_type": "stream",
     "text": [
      "Do you want to create this file? (yes/no):  yes\n",
      "Enter content to write in the new file:  cghcmyuyfhdxu,,yju\n"
     ]
    },
    {
     "name": "stdout",
     "output_type": "stream",
     "text": [
      "File 'notes.txt' created successfully.\n"
     ]
    }
   ],
   "source": [
    "filename = input(\"Enter the filename to read: \")\n",
    "\n",
    "try:\n",
    "    # Try to open and read the file\n",
    "    with open(filename, \"r\") as file:\n",
    "        content = file.read()\n",
    "        print(\"\\nFile contents:\\n\")\n",
    "        print(content)\n",
    "\n",
    "except FileNotFoundError:\n",
    "    print(f\"\\nError: The file '{filename}' does not exist.\")\n",
    "    create = input(\"Do you want to create this file? (yes/no): \")\n",
    "    \n",
    "    if create.lower() == 'yes':\n",
    "        data = input(\"Enter content to write in the new file: \")\n",
    "        with open(filename, \"w\") as file:\n",
    "            file.write(data)\n",
    "        print(f\"File '{filename}' created successfully.\")\n",
    "    else:\n",
    "        print(\"File not created.\")\n"
   ]
  },
  {
   "cell_type": "code",
   "execution_count": 40,
   "id": "01cda188-d19a-48c0-9326-da20ae25ab4e",
   "metadata": {},
   "outputs": [
    {
     "name": "stdout",
     "output_type": "stream",
     "text": [
      "File 'eg.txt' created and written successfully.\n",
      "\n",
      "--- File Contents ---\n",
      "Python is a powerful programming language.\n",
      "It is easy to learn and use.\n",
      "\n",
      "Total number of words: 13\n"
     ]
    }
   ],
   "source": [
    "filename = \"eg.txt\"\n",
    "try:\n",
    "    with open(filename, \"w\") as file:\n",
    "        file.write(\"Python is a powerful programming language.\\nIt is easy to learn and use.\")\n",
    "    print(f\"File '{filename}' created and written successfully.\")\n",
    "except Exception as e:\n",
    "    print(\"Error writing to file:\", e)\n",
    "try:\n",
    "    with open(filename, \"r\") as file:\n",
    "        content = file.read()\n",
    "        words = content.split()\n",
    "        word_count = len(words)\n",
    "\n",
    "    print(\"\\n--- File Contents ---\")\n",
    "    print(content)\n",
    "    print(\"\\nTotal number of words:\", word_count)\n",
    "except FileNotFoundError:\n",
    "    print(\"File not found.\")\n",
    "except Exception as e:\n",
    "    print(\"Error reading file:\", e)\n"
   ]
  },
  {
   "cell_type": "code",
   "execution_count": 38,
   "id": "25324420-4cc7-4eec-b2b3-21f9b7a2c7b5",
   "metadata": {},
   "outputs": [
    {
     "name": "stdout",
     "output_type": "stream",
     "text": [
      "Contents copied successfully!\n"
     ]
    },
    {
     "name": "stdin",
     "output_type": "stream",
     "text": [
      "Enter the source file name:  source.txt\n",
      "Enter the destination file name:  destination.txt\n"
     ]
    },
    {
     "name": "stdout",
     "output_type": "stream",
     "text": [
      "File copied successfully.\n"
     ]
    }
   ],
   "source": [
    "# Create a source file with some content\n",
    "with open(\"source.txt\", \"w\") as f:\n",
    "    f.write(\"This is the source file.\\nIt contains some lines.\\nTo be copied!\")\n",
    "\n",
    "# Now copy to destination file\n",
    "source_file = \"source.txt\"\n",
    "destination_file = \"destination.txt\"\n",
    "\n",
    "with open(source_file, \"r\") as src:\n",
    "    content = src.read()\n",
    "\n",
    "with open(destination_file, \"w\") as dst:\n",
    "    dst.write(content)\n",
    "\n",
    "print(\"Contents copied successfully!\")\n",
    "\n",
    "source_file = input(\"Enter the source file name: \")\n",
    "destination_file = input(\"Enter the destination file name: \")\n",
    "\n",
    "try:\n",
    "    with open(source_file, \"r\") as src:\n",
    "        content = src.read()\n",
    "    with open(destination_file, \"w\") as dest:\n",
    "        dest.write(content)\n",
    "\n",
    "    print(\"File copied successfully.\")\n",
    "except FileNotFoundError:\n",
    "    print(\"Error: Source file not found.\")\n",
    "except Exception as e:\n",
    "    print(\"An error occurred:\", e)\n"
   ]
  },
  {
   "cell_type": "code",
   "execution_count": 37,
   "id": "92d13837-8163-4074-a017-046107262b44",
   "metadata": {},
   "outputs": [
    {
     "name": "stdin",
     "output_type": "stream",
     "text": [
      "Enter the file name:  example.txt\n"
     ]
    },
    {
     "name": "stdout",
     "output_type": "stream",
     "text": [
      "\n",
      "Lines with more than 50 characters:\n",
      "\n",
      "This is a very long line that definitely has more than fifty characters in total.\n",
      "Here is another long line that should be printed because it's long enough.\n"
     ]
    }
   ],
   "source": [
    "with open(\"example.txt\", \"w\") as f:\n",
    "    f.write(\"This is a short line.\\n\")\n",
    "    f.write(\"This is a very long line that definitely has more than fifty characters in total.\\n\")\n",
    "    f.write(\"Another small one.\\n\")\n",
    "    f.write(\"Here is another long line that should be printed because it's long enough.\\n\")\n",
    "\n",
    "filename = input(\"Enter the file name: \")\n",
    "\n",
    "try:\n",
    "    with open(filename, \"r\") as file:\n",
    "        print(\"\\nLines with more than 50 characters:\\n\")\n",
    "        for line in file:\n",
    "            if len(line.strip()) > 50:\n",
    "                print(line.strip())\n",
    "except FileNotFoundError:\n",
    "    print(\"Error: File not found.\")\n",
    "except Exception as e:\n",
    "    print(\"An error occurred:\", e)\n"
   ]
  },
  {
   "cell_type": "code",
   "execution_count": 43,
   "id": "69447a47-4fe7-4021-90f5-9c23172800c3",
   "metadata": {},
   "outputs": [
    {
     "name": "stdin",
     "output_type": "stream",
     "text": [
      "Enter filename to create:  note\n",
      "How many lines do you want to write?  2\n",
      "Enter line 1:  hi everyone\n",
      "Enter line 2:  lo ji baat krlo\n"
     ]
    },
    {
     "name": "stdout",
     "output_type": "stream",
     "text": [
      "\n",
      "File 'note' created and lines written successfully.\n"
     ]
    }
   ],
   "source": [
    "try:\n",
    "    filename = input(\"Enter filename to create: \")\n",
    "\n",
    "    # Get number of lines from user\n",
    "    n = int(input(\"How many lines do you want to write? \"))\n",
    "    lines = []\n",
    "    for i in range(n):\n",
    "        line = input(f\"Enter line {i+1}: \")\n",
    "        lines.append(line)\n",
    "    with open(filename, \"w\") as file:\n",
    "        for line in lines:\n",
    "            file.write(line + \"\\n\")\n",
    "\n",
    "    print(f\"\\nFile '{filename}' created and lines written successfully.\")\n",
    "\n",
    "except Exception as e:\n",
    "    print(\"An error occurred:\", e)\n"
   ]
  },
  {
   "cell_type": "code",
   "execution_count": 44,
   "id": "53d305c4-ad11-491d-87e0-9f9518956a40",
   "metadata": {},
   "outputs": [
    {
     "name": "stdin",
     "output_type": "stream",
     "text": [
      "first number:  7\n",
      "second number:  6\n"
     ]
    },
    {
     "name": "stdout",
     "output_type": "stream",
     "text": [
      "Result: 1.1666666666666667\n"
     ]
    }
   ],
   "source": [
    "try:\n",
    "    a = int(input(\"first number: \"))\n",
    "    b = int(input(\"second number: \"))\n",
    "    result = a / b\n",
    "    print(\"Result:\", result)\n",
    "except ZeroDivisionError:\n",
    "    print(\"Error: Division by zero isn't allowed.\")\n"
   ]
  },
  {
   "cell_type": "code",
   "execution_count": 45,
   "id": "1ba9d691-c8ef-4213-91f8-b76b9d9f2609",
   "metadata": {},
   "outputs": [
    {
     "name": "stdin",
     "output_type": "stream",
     "text": [
      "Enter a number:  8\n"
     ]
    },
    {
     "name": "stdout",
     "output_type": "stream",
     "text": [
      "8\n"
     ]
    }
   ],
   "source": [
    "try:\n",
    "    num = int(input(\"Enter a number: \"))\n",
    "    print(num)\n",
    "except ValueError:\n",
    "    print(\"Invalid input! Please enter a valid number.\")\n"
   ]
  },
  {
   "cell_type": "code",
   "execution_count": 46,
   "id": "45161040-f717-4c4a-88f8-d4a2b9ea4e22",
   "metadata": {},
   "outputs": [
    {
     "name": "stdin",
     "output_type": "stream",
     "text": [
      "Enter filename to open:  note\n"
     ]
    },
    {
     "name": "stdout",
     "output_type": "stream",
     "text": [
      "File content:\n",
      " hi everyone\n",
      "lo ji baat krlo\n",
      "\n"
     ]
    }
   ],
   "source": [
    "try:\n",
    "    filename = input(\"Enter filename to open: \")\n",
    "    with open(filename, \"r\") as file:\n",
    "        content = file.read()\n",
    "        print(\"File content:\\n\", content)\n",
    "except FileNotFoundError:\n",
    "    print(\"Error: File not found.\")"
   ]
  },
  {
   "cell_type": "code",
   "execution_count": 48,
   "id": "860786ab-29b1-436a-9962-3fc600a33692",
   "metadata": {},
   "outputs": [
    {
     "name": "stdin",
     "output_type": "stream",
     "text": [
      " 1 2 3 4 5 6 7 8 9 9\n",
      "Enter an index to access:  3 \n"
     ]
    },
    {
     "name": "stdout",
     "output_type": "stream",
     "text": [
      "Value at index 3 is  \n"
     ]
    }
   ],
   "source": [
    "numbers = input()\n",
    "\n",
    "try:\n",
    "    index = int(input(\"Enter an index to access: \"))\n",
    "    print(\"Value at index\", index, \"is\", numbers[index])\n",
    "except IndexError:\n",
    "    print(\"Error: Index out of range.\")\n"
   ]
  },
  {
   "cell_type": "code",
   "execution_count": 49,
   "id": "bdf0e2a2-64e9-493a-9ac7-02a1ba1ea567",
   "metadata": {},
   "outputs": [
    {
     "name": "stdin",
     "output_type": "stream",
     "text": [
      " 67\n"
     ]
    },
    {
     "name": "stdout",
     "output_type": "stream",
     "text": [
      "0.14925373134328357\n",
      "This block always runs (finally).\n"
     ]
    }
   ],
   "source": [
    "try:\n",
    "    x = int(input())\n",
    "    y = 10 / x\n",
    "    print(y)\n",
    "except ZeroDivisionError:\n",
    "    print(\"Caught division by zero error.\")\n",
    "finally:\n",
    "    print(\"This block always runs (finally).\")\n"
   ]
  },
  {
   "cell_type": "code",
   "execution_count": null,
   "id": "f4446ffe-7a60-4d39-9bce-037fc0b251bf",
   "metadata": {},
   "outputs": [],
   "source": []
  }
 ],
 "metadata": {
  "kernelspec": {
   "display_name": "Python 3 (ipykernel)",
   "language": "python",
   "name": "python3"
  },
  "language_info": {
   "codemirror_mode": {
    "name": "ipython",
    "version": 3
   },
   "file_extension": ".py",
   "mimetype": "text/x-python",
   "name": "python",
   "nbconvert_exporter": "python",
   "pygments_lexer": "ipython3",
   "version": "3.12.7"
  }
 },
 "nbformat": 4,
 "nbformat_minor": 5
}
